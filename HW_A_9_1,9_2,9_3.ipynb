{
  "nbformat": 4,
  "nbformat_minor": 0,
  "metadata": {
    "colab": {
      "provenance": [],
      "authorship_tag": "ABX9TyPEI4spInZCr6TYrswhWmXp",
      "include_colab_link": true
    },
    "kernelspec": {
      "name": "python3",
      "display_name": "Python 3"
    },
    "language_info": {
      "name": "python"
    }
  },
  "cells": [
    {
      "cell_type": "markdown",
      "metadata": {
        "id": "view-in-github",
        "colab_type": "text"
      },
      "source": [
        "<a href=\"https://colab.research.google.com/github/SimonT2003/MAT421/blob/main/HW_A_9_1%2C9_2%2C9_3.ipynb\" target=\"_parent\"><img src=\"https://colab.research.google.com/assets/colab-badge.svg\" alt=\"Open In Colab\"/></a>"
      ]
    },
    {
      "cell_type": "markdown",
      "source": [
        "# Representation of Numbers in Python"
      ],
      "metadata": {
        "id": "LeRVDQaoJxNj"
      }
    },
    {
      "cell_type": "markdown",
      "source": [
        "## Section 9.1 - Base-N and Binary"
      ],
      "metadata": {
        "id": "2fvjHnMmKNlj"
      }
    },
    {
      "cell_type": "markdown",
      "source": [
        "The **decimal** system is a way of representing numbers that you are familiar with from elementary school. In the decimal system, a number is represented by a list of digits from 0 to 9, where each digit represents the coefficient for a power of 10."
      ],
      "metadata": {
        "id": "WYRL_mI0LIrw"
      }
    },
    {
      "cell_type": "markdown",
      "source": [
        "EXAMPLE: Show the decimal expansion for 147.3.\n",
        "\n",
        "> 136.3= 1⋅10^2 + 3⋅10^1 + 6⋅10^0 + 3⋅ 10^−1"
      ],
      "metadata": {
        "id": "k8nsrJuvLwUE"
      }
    },
    {
      "cell_type": "markdown",
      "source": [
        "Since each digit is associated with a power of 10, the decimal system is also known as **base10** because it is based on 10 digits (0 to 9). However, there is nothing special about base10 numbers except perhaps that you are more accustomed to using them."
      ],
      "metadata": {
        "id": "19qnLG3OMKLu"
      }
    },
    {
      "cell_type": "markdown",
      "source": [
        " For example, in base3 we have the digits 0, 1, and 2 and the number\n",
        "\n",
        " 121(base 3)=1⋅32+2⋅31+1⋅30=9+6+1=16(base 10)"
      ],
      "metadata": {
        "id": "vuEzKWH8MVG5"
      }
    },
    {
      "cell_type": "markdown",
      "source": [
        "A very important representation of numbers for computers is base2 or **binary** numbers. In binary, the only available digits are 0 and 1, and each digit is the coefficient of a power of 2. Digits in a binary number are also known as a bit. Note that binary numbers are still numbers, and so addition and multiplication are defined on them exactly as you learned in grade school."
      ],
      "metadata": {
        "id": "Nviun3LlM5UG"
      }
    },
    {
      "cell_type": "markdown",
      "source": [
        "**TRY IT!** Convert the number 11 (base10) into binary."
      ],
      "metadata": {
        "id": "nb_B1MVgNKW6"
      }
    },
    {
      "cell_type": "code",
      "execution_count": 1,
      "metadata": {
        "colab": {
          "base_uri": "https://localhost:8080/",
          "height": 36
        },
        "id": "LoFYK4oOJZ2U",
        "outputId": "4e123eae-81a2-4cc3-fd44-8e652560b786"
      },
      "outputs": [
        {
          "output_type": "execute_result",
          "data": {
            "text/plain": [
              "'0b1011'"
            ],
            "application/vnd.google.colaboratory.intrinsic+json": {
              "type": "string"
            }
          },
          "metadata": {},
          "execution_count": 1
        }
      ],
      "source": [
        "bin(11) #the code bin(11) returns the binary expression of 11"
      ]
    },
    {
      "cell_type": "markdown",
      "source": [
        "**TRY IT!** Convert 37 (base10) and 17 (base10) to binary. Add and multiply the resulting numbers in binary. Verify that the result is correct in base10."
      ],
      "metadata": {
        "id": "z9Nqw50cNzS4"
      }
    },
    {
      "cell_type": "code",
      "source": [
        "# ADDING\n",
        "bin(37) #here we convert 37 to a binary number\n",
        "bin(17) #here we convert 17 to a binary number\n",
        "x = 0b100101; #x is initiallized as a binary of 37\n",
        "y = 0b10001; #y is initiallized as a binary of 17\n",
        "i = x + y; #i is x + y, or the binary numbers added\n",
        "print(f\"{i:b}\") ##printing the addition result"
      ],
      "metadata": {
        "colab": {
          "base_uri": "https://localhost:8080/"
        },
        "id": "WfAQ6r51N5xM",
        "outputId": "647d27c6-0cc2-47c4-c523-4e2b0b753e52"
      },
      "execution_count": 9,
      "outputs": [
        {
          "output_type": "stream",
          "name": "stdout",
          "text": [
            "110110\n"
          ]
        }
      ]
    },
    {
      "cell_type": "code",
      "source": [
        "# MULTIPLYING\n",
        "x = 0b100101; #x is initiallized as a binary of 37\n",
        "y = 0b10001; #y is initiallized as a binary of 17\n",
        "j = x * y; #j is x * y, or the binary numbers multiplied\n",
        "print(f\"{j:b}\") ##printing the product result"
      ],
      "metadata": {
        "colab": {
          "base_uri": "https://localhost:8080/"
        },
        "id": "eNTycdkaOwZc",
        "outputId": "a149319b-e7a0-4583-f159-183b039bc186"
      },
      "execution_count": 10,
      "outputs": [
        {
          "output_type": "stream",
          "name": "stdout",
          "text": [
            "1001110101\n"
          ]
        }
      ]
    },
    {
      "cell_type": "markdown",
      "source": [
        "## Section 9.2 - Floating Point Numbers"
      ],
      "metadata": {
        "id": "RtNi1WAlUI9S"
      }
    },
    {
      "cell_type": "markdown",
      "source": [
        "The number of bits is usually fixed for any given computer. Using binary representation gives us an insufficient range and precision of numbers to do relevant engineering calculations. To achieve the range of values needed with the same number of bits, we use **floating point** numbers or **float** for short.\n",
        "\n"
      ],
      "metadata": {
        "id": "dqtGGTGXUaRl"
      }
    },
    {
      "cell_type": "code",
      "source": [
        "import sys\n",
        "sys.float_info"
      ],
      "metadata": {
        "colab": {
          "base_uri": "https://localhost:8080/"
        },
        "id": "gELCR2DrUOSI",
        "outputId": "e4f4a0dc-bc00-4133-9343-66ac499683ab"
      },
      "execution_count": 6,
      "outputs": [
        {
          "output_type": "execute_result",
          "data": {
            "text/plain": [
              "sys.float_info(max=1.7976931348623157e+308, max_exp=1024, max_10_exp=308, min=2.2250738585072014e-308, min_exp=-1021, min_10_exp=-307, dig=15, mant_dig=53, epsilon=2.220446049250313e-16, radix=2, rounds=1)"
            ]
          },
          "metadata": {},
          "execution_count": 6
        }
      ]
    },
    {
      "cell_type": "markdown",
      "source": [
        "A float can then be represented as:\n",
        "\n",
        "> $n=(-1)^{s}2^{e-1023}(1+f).$ (for 64-bit) where $s$ is **sign indicator**, which says whether a number is positive or negative and $f$ is the **fraction**, which is the coefficient of the exponent."
      ],
      "metadata": {
        "id": "_dTA8svwU8Lw"
      }
    },
    {
      "cell_type": "markdown",
      "source": [
        "**TRY IT!** What is the number 1 10000000010 1000000000000000000000000000000000000000000000000000 (IEEE754) in base10?**"
      ],
      "metadata": {
        "id": "aX2QKb-DVx4f"
      }
    },
    {
      "cell_type": "markdown",
      "source": [
        "The exponent in decimal is $1⋅2^{10}+1⋅2^{1}-1023=3.$ The fraction is $1⋅\\frac{1}{2^{1}}+0⋅\\frac{1}{2^{2}}+...=0.5$. Therefore $n=(-1)^{1}⋅2^{3}⋅(1+0.5)=-12.0$ (base10)."
      ],
      "metadata": {
        "id": "10ztSZzUV9mf"
      }
    },
    {
      "cell_type": "markdown",
      "source": [
        "We call the distance from one number to the next the **gap**. Because the fraction is multiplied by $2^{e-1023}$, the gap grows as the number represented grows. The gap at a given number can be computed using the function spacing in numpy."
      ],
      "metadata": {
        "id": "RHb_f8ryXeex"
      }
    },
    {
      "cell_type": "code",
      "source": [
        "import numpy as np"
      ],
      "metadata": {
        "id": "E8k9kcXBVqpA"
      },
      "execution_count": 3,
      "outputs": []
    },
    {
      "cell_type": "markdown",
      "source": [
        "**TRY IT!** Use the spacing function to determine the gap at 1e9. Verify that adding a number to 1e9 that is less than half the gap at 1e9 results in the same number."
      ],
      "metadata": {
        "id": "cDiLcR9dX3Q-"
      }
    },
    {
      "cell_type": "code",
      "source": [
        "np.spacing(1e9)"
      ],
      "metadata": {
        "colab": {
          "base_uri": "https://localhost:8080/"
        },
        "id": "bnTVF_D7X0tM",
        "outputId": "bd47ceda-0897-43c5-d967-18cb22f73d05"
      },
      "execution_count": 13,
      "outputs": [
        {
          "output_type": "execute_result",
          "data": {
            "text/plain": [
              "1.1920928955078125e-07"
            ]
          },
          "metadata": {},
          "execution_count": 13
        }
      ]
    },
    {
      "cell_type": "code",
      "source": [
        "1e9 == (1e9 + np.spacing(1e9)/3)"
      ],
      "metadata": {
        "colab": {
          "base_uri": "https://localhost:8080/"
        },
        "id": "TeFIqt7yYBvC",
        "outputId": "69dcaf74-ac5b-4da3-90e4-67eba05f6c8b"
      },
      "execution_count": 14,
      "outputs": [
        {
          "output_type": "execute_result",
          "data": {
            "text/plain": [
              "True"
            ]
          },
          "metadata": {},
          "execution_count": 14
        }
      ]
    },
    {
      "cell_type": "markdown",
      "source": [
        "There are special cases for the value of a floating point number when e = 0 (i.e., e = 00000000000 (base2)) and when e = 2047 (i.e., e = 11111111111 (base2)), which are reserved.\n",
        "\n",
        "When the exponent is 0, the leading 1 in the fraction takes the value 0 instead. The result is a subnormal number, which is computed by $n=(-1)^{s}2^{-1022}(0+f)$ (note: it is -1022 instead of -1023). When the exponent is 2047 and f is nonzero, then the result is “Not a Number”, which means that the number is undefined. When the exponent is 2047, then f = 0 and s = 0, and the result is positive infinity. When the exponent is 2047, then f = 0, and s = 1, and the result is minus infinity."
      ],
      "metadata": {
        "id": "ZSAzIUEe9qZf"
      }
    },
    {
      "cell_type": "markdown",
      "source": [
        "**TRY IT!** Compute the base10 value for 0 11111111110 1111111111111111111111111111111111111111111111111111 (IEEE754), the largest defined number for 64 bits, and for 0 00000000001 000000000000000000000000000000000000000000000000000 (IEEE754), the smallest. Note that the exponent is, respectively, e = 2046 and e = 1 to comply with the previously stated rules. Verify that Python agrees with these calculations using sys.float_info.max and sys.float_info.min."
      ],
      "metadata": {
        "id": "Z1C0FM8v-K7Z"
      }
    },
    {
      "cell_type": "code",
      "source": [
        "largest = (2**(2046-1023))*((1 + sum(0.5**np.arange(1, 53))));\n",
        "largest"
      ],
      "metadata": {
        "colab": {
          "base_uri": "https://localhost:8080/"
        },
        "id": "xZnr-Vro-CQB",
        "outputId": "54155a89-447f-4e99-e895-f202e878a8a1"
      },
      "execution_count": 4,
      "outputs": [
        {
          "output_type": "execute_result",
          "data": {
            "text/plain": [
              "1.7976931348623157e+308"
            ]
          },
          "metadata": {},
          "execution_count": 4
        }
      ]
    },
    {
      "cell_type": "code",
      "source": [
        "sys.float_info.max"
      ],
      "metadata": {
        "colab": {
          "base_uri": "https://localhost:8080/"
        },
        "id": "Is0NPqBp-cfz",
        "outputId": "7c17463c-8184-421f-abb7-ae9dd381e36d"
      },
      "execution_count": 7,
      "outputs": [
        {
          "output_type": "execute_result",
          "data": {
            "text/plain": [
              "1.7976931348623157e+308"
            ]
          },
          "metadata": {},
          "execution_count": 7
        }
      ]
    },
    {
      "cell_type": "code",
      "source": [
        "smallest = (2**(1-1023))*(1+0)\n",
        "smallest"
      ],
      "metadata": {
        "colab": {
          "base_uri": "https://localhost:8080/"
        },
        "id": "KyduKumB-hVi",
        "outputId": "4860466c-1b4d-4428-c049-c999d4c01b75"
      },
      "execution_count": 8,
      "outputs": [
        {
          "output_type": "execute_result",
          "data": {
            "text/plain": [
              "2.2250738585072014e-308"
            ]
          },
          "metadata": {},
          "execution_count": 8
        }
      ]
    },
    {
      "cell_type": "code",
      "source": [
        "sys.float_info.min"
      ],
      "metadata": {
        "colab": {
          "base_uri": "https://localhost:8080/"
        },
        "id": "j9fPdldq-jQs",
        "outputId": "5880fd27-1136-400f-bb17-83faca0488b9"
      },
      "execution_count": 9,
      "outputs": [
        {
          "output_type": "execute_result",
          "data": {
            "text/plain": [
              "2.2250738585072014e-308"
            ]
          },
          "metadata": {},
          "execution_count": 9
        }
      ]
    },
    {
      "cell_type": "markdown",
      "source": [
        "Numbers that are larger than the largest representable floating point number result in **overflow**, and Python handles this case by assigning the result to inf. Numbers that are smaller than the smallest subnormal number result in **underflow**, and Python handles this case by assigning the result to 0."
      ],
      "metadata": {
        "id": "xUL420iA-mNB"
      }
    },
    {
      "cell_type": "markdown",
      "source": [
        "**TRY IT!** Show that adding the maximum 64 bits float number with 2 results in the same number. The Python float does not have sufficient precision to store the + 2 for sys.float_info.max, therefore, the operations is essentially equivalent to add zero. Also show that adding the maximum 64 bits float number with itself results in overflow and that Python assigns this overflow number to inf."
      ],
      "metadata": {
        "id": "8eRIRJuU-1if"
      }
    },
    {
      "cell_type": "code",
      "source": [
        "sys.float_info.max + 2 == sys.float_info.max"
      ],
      "metadata": {
        "colab": {
          "base_uri": "https://localhost:8080/"
        },
        "id": "77iKThiO-zMn",
        "outputId": "40914e4d-bac2-4c4f-ccfc-8a69ac35ec8b"
      },
      "execution_count": 10,
      "outputs": [
        {
          "output_type": "execute_result",
          "data": {
            "text/plain": [
              "True"
            ]
          },
          "metadata": {},
          "execution_count": 10
        }
      ]
    },
    {
      "cell_type": "code",
      "source": [
        "sys.float_info.max + sys.float_info.max"
      ],
      "metadata": {
        "colab": {
          "base_uri": "https://localhost:8080/"
        },
        "id": "qEyk2Ksn-9Up",
        "outputId": "03510d12-2692-427a-f738-ae4c3073b1d0"
      },
      "execution_count": 11,
      "outputs": [
        {
          "output_type": "execute_result",
          "data": {
            "text/plain": [
              "inf"
            ]
          },
          "metadata": {},
          "execution_count": 11
        }
      ]
    },
    {
      "cell_type": "markdown",
      "source": [
        "TRY IT! The smallest subnormal number in 64-bit number has s = 0, e = 00000000000, and f = 0000000000000000000000000000000000000000000000000001. Using the special rules for subnormal numbers, this results in the subnormal number $(-1)^{0}2^{1-1023}2^{-52}=2^{-1074}.$ Show that $2^{-1075}$ underflows t0 0.0 and that the result cannot be distinguished from 0.0. Show that $2^{-1074}$ does not.\n",
        "\n"
      ],
      "metadata": {
        "id": "WR-ZpxSe_CcP"
      }
    },
    {
      "cell_type": "code",
      "source": [
        "2**(-1075)"
      ],
      "metadata": {
        "colab": {
          "base_uri": "https://localhost:8080/"
        },
        "id": "gSbuApt1AFrH",
        "outputId": "a16f15c1-7bb3-4078-fa81-a0a6b89adebf"
      },
      "execution_count": 12,
      "outputs": [
        {
          "output_type": "execute_result",
          "data": {
            "text/plain": [
              "0.0"
            ]
          },
          "metadata": {},
          "execution_count": 12
        }
      ]
    },
    {
      "cell_type": "code",
      "source": [
        "2**(-1075) == 0"
      ],
      "metadata": {
        "colab": {
          "base_uri": "https://localhost:8080/"
        },
        "id": "h-g3eCmeAKdI",
        "outputId": "56045bd7-209f-4a56-b3e9-ec0dde5335ce"
      },
      "execution_count": 13,
      "outputs": [
        {
          "output_type": "execute_result",
          "data": {
            "text/plain": [
              "True"
            ]
          },
          "metadata": {},
          "execution_count": 13
        }
      ]
    },
    {
      "cell_type": "code",
      "source": [
        "2**(-1074)"
      ],
      "metadata": {
        "colab": {
          "base_uri": "https://localhost:8080/"
        },
        "id": "tlVmyRejAM5o",
        "outputId": "d0fb5f2e-3d76-4123-a2e6-f147365dcc38"
      },
      "execution_count": 14,
      "outputs": [
        {
          "output_type": "execute_result",
          "data": {
            "text/plain": [
              "5e-324"
            ]
          },
          "metadata": {},
          "execution_count": 14
        }
      ]
    },
    {
      "cell_type": "markdown",
      "source": [
        "## Section 9.3 - Round-off Errors"
      ],
      "metadata": {
        "id": "NoCprzcwAQnY"
      }
    },
    {
      "cell_type": "markdown",
      "source": [
        "In the previous section, we talked about how the floating point numbers are represented in computers as base 2 fractions. This has a side effect that the floating point numbers can not be stored with perfect precision, instead the numbers are approximated by finite number of bytes. Therefore, the difference between an approximation of a number used in computation and its correct (true) value is called **round-off error**. It is one of the common errors usually in the numerical calculations."
      ],
      "metadata": {
        "id": "QhwvHylGAi_m"
      }
    },
    {
      "cell_type": "markdown",
      "source": [
        "### Representation Error"
      ],
      "metadata": {
        "id": "hZG7eNeoApnB"
      }
    },
    {
      "cell_type": "markdown",
      "source": [
        "The most common form round-off error is the representation error in the floating point numbers. A simple example will be to represent π\n",
        ". We know that π\n",
        " is an infinite number, but when we use it, we usually only use a finite digits. For example, if you only use 3.14159265, there will be an error between this approximation and the true infinite number. Another example will be 1/3, the true value will be 0.333333333…, no matter how many decimal digits we choose, there is an round-off error as well."
      ],
      "metadata": {
        "id": "GI-GXwX3Az78"
      }
    },
    {
      "cell_type": "markdown",
      "source": [
        "### Round-off Error by Floating-Point Arithmetic"
      ],
      "metadata": {
        "id": "ftw1AlANA9f2"
      }
    },
    {
      "cell_type": "markdown",
      "source": [
        "From the above example, the error between 4.845 and 4.8 should be 0.055. But if you calculate it in Python, you will see the 4.9 - 4.845 is not equal to 0.055."
      ],
      "metadata": {
        "id": "uoSJOTMCBENQ"
      }
    },
    {
      "cell_type": "code",
      "source": [
        "4.9 - 4.845 == 0.055"
      ],
      "metadata": {
        "colab": {
          "base_uri": "https://localhost:8080/"
        },
        "id": "C3JzhAxWAUYD",
        "outputId": "33dfa748-4ab7-4350-9d89-019c44efd046"
      },
      "execution_count": 15,
      "outputs": [
        {
          "output_type": "execute_result",
          "data": {
            "text/plain": [
              "False"
            ]
          },
          "metadata": {},
          "execution_count": 15
        }
      ]
    },
    {
      "cell_type": "markdown",
      "source": [
        "Why does this happen? If we have a look of 4.9 - 4.845, we can see that, we actually get 0.055000000000000604 instead. This is because the floating point can not be represented by the exact number, it is just approximation, and when it is used in arithmetic, it is causing a small error."
      ],
      "metadata": {
        "id": "o40moeetBJ9o"
      }
    },
    {
      "cell_type": "code",
      "source": [
        "4.9 - 4.845"
      ],
      "metadata": {
        "colab": {
          "base_uri": "https://localhost:8080/"
        },
        "id": "9QWcXECfBKgo",
        "outputId": "26c00acc-dd59-44ae-d0e8-69694e2ca37e"
      },
      "execution_count": 16,
      "outputs": [
        {
          "output_type": "execute_result",
          "data": {
            "text/plain": [
              "0.055000000000000604"
            ]
          },
          "metadata": {},
          "execution_count": 16
        }
      ]
    },
    {
      "cell_type": "code",
      "source": [
        "4.8 - 4.845"
      ],
      "metadata": {
        "colab": {
          "base_uri": "https://localhost:8080/"
        },
        "id": "ILLBP3uRBPfJ",
        "outputId": "fe542d5b-e235-473d-b40b-ad67a3cb9f5d"
      },
      "execution_count": 17,
      "outputs": [
        {
          "output_type": "execute_result",
          "data": {
            "text/plain": [
              "-0.04499999999999993"
            ]
          },
          "metadata": {},
          "execution_count": 17
        }
      ]
    },
    {
      "cell_type": "markdown",
      "source": [
        "Another example shows below that 0.1 + 0.2 + 0.3 is not equal 0.6, which has the same cause."
      ],
      "metadata": {
        "id": "LSS_HzmpBSvO"
      }
    },
    {
      "cell_type": "code",
      "source": [
        "round(0.1 + 0.2 + 0.3, 5)  == round(0.6, 5)"
      ],
      "metadata": {
        "colab": {
          "base_uri": "https://localhost:8080/"
        },
        "id": "jEy6PIinBTHj",
        "outputId": "239b89f7-aa2e-40a9-93c4-2f508bd93967"
      },
      "execution_count": 18,
      "outputs": [
        {
          "output_type": "execute_result",
          "data": {
            "text/plain": [
              "True"
            ]
          },
          "metadata": {},
          "execution_count": 18
        }
      ]
    },
    {
      "cell_type": "markdown",
      "source": [
        "Though the numbers cannot be made closer to their intended exact values, the round function can be useful for post-rounding so that results with inexact values become comparable to one another:"
      ],
      "metadata": {
        "id": "IkrOAqvCBZ-m"
      }
    },
    {
      "cell_type": "code",
      "source": [
        "round(0.1 + 0.2 + 0.3, 5)  == round(0.6, 5)"
      ],
      "metadata": {
        "colab": {
          "base_uri": "https://localhost:8080/"
        },
        "id": "WSxi6_pTBabl",
        "outputId": "e50f7e27-e9a9-4b9e-ead7-99f38e3a6010"
      },
      "execution_count": 19,
      "outputs": [
        {
          "output_type": "execute_result",
          "data": {
            "text/plain": [
              "True"
            ]
          },
          "metadata": {},
          "execution_count": 19
        }
      ]
    },
    {
      "cell_type": "markdown",
      "source": [
        "### Accumulation of Round-Off Error"
      ],
      "metadata": {
        "id": "2VvpAskEBfSz"
      }
    },
    {
      "cell_type": "markdown",
      "source": [
        "The following is an example, that we have the number 1 add and subtract 1/3, which gives us the same number 1. But what if we adding 1/3 for many times and subtract the same number of times 1/3, do we still get the same number 1? No, you can see the example below, the more times you doing this, the more errors you are accumulating."
      ],
      "metadata": {
        "id": "gTIbtikNBmAm"
      }
    },
    {
      "cell_type": "code",
      "source": [
        "# If we only do once\n",
        "1 + 1/3 - 1/3"
      ],
      "metadata": {
        "colab": {
          "base_uri": "https://localhost:8080/"
        },
        "id": "bnrLljtyBiUE",
        "outputId": "6e66c28b-448b-40a1-fe55-bbf1ee88ccfb"
      },
      "execution_count": 20,
      "outputs": [
        {
          "output_type": "execute_result",
          "data": {
            "text/plain": [
              "1.0"
            ]
          },
          "metadata": {},
          "execution_count": 20
        }
      ]
    },
    {
      "cell_type": "code",
      "source": [
        "def add_and_subtract(iterations):\n",
        "    result = 1\n",
        "\n",
        "    for i in range(iterations):\n",
        "        result += 1/3\n",
        "\n",
        "    for i in range(iterations):\n",
        "        result -= 1/3\n",
        "    return result"
      ],
      "metadata": {
        "id": "2_JEd72QBpUb"
      },
      "execution_count": 21,
      "outputs": []
    },
    {
      "cell_type": "code",
      "source": [
        "# If we do this 100 times\n",
        "add_and_subtract(100)"
      ],
      "metadata": {
        "colab": {
          "base_uri": "https://localhost:8080/"
        },
        "id": "et4RN-byBrxw",
        "outputId": "2a48b590-4975-4d53-d4b4-6ea2c079a616"
      },
      "execution_count": 22,
      "outputs": [
        {
          "output_type": "execute_result",
          "data": {
            "text/plain": [
              "1.0000000000000002"
            ]
          },
          "metadata": {},
          "execution_count": 22
        }
      ]
    },
    {
      "cell_type": "code",
      "source": [
        "# If we do this 1000 times\n",
        "add_and_subtract(1000)"
      ],
      "metadata": {
        "colab": {
          "base_uri": "https://localhost:8080/"
        },
        "id": "mywVgpwlBtwI",
        "outputId": "4e8b1d4b-9017-45a3-9cbf-cdac5ca9c413"
      },
      "execution_count": 23,
      "outputs": [
        {
          "output_type": "execute_result",
          "data": {
            "text/plain": [
              "1.0000000000000064"
            ]
          },
          "metadata": {},
          "execution_count": 23
        }
      ]
    },
    {
      "cell_type": "code",
      "source": [
        "# If we do this 10000 times\n",
        "add_and_subtract(10000)"
      ],
      "metadata": {
        "colab": {
          "base_uri": "https://localhost:8080/"
        },
        "id": "WEx-Ck8oBwQa",
        "outputId": "d8ee54a1-d53e-4966-c4af-9ac98d17723a"
      },
      "execution_count": 24,
      "outputs": [
        {
          "output_type": "execute_result",
          "data": {
            "text/plain": [
              "1.0000000000001166"
            ]
          },
          "metadata": {},
          "execution_count": 24
        }
      ]
    },
    {
      "cell_type": "markdown",
      "source": [
        "## End of Module A"
      ],
      "metadata": {
        "id": "Y6hfVQtuB3US"
      }
    }
  ]
}