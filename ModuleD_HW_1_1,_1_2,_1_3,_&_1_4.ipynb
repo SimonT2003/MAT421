{
  "nbformat": 4,
  "nbformat_minor": 0,
  "metadata": {
    "colab": {
      "provenance": [],
      "authorship_tag": "ABX9TyOfbkKN7eM8aW/BvLGsLuLe",
      "include_colab_link": true
    },
    "kernelspec": {
      "name": "python3",
      "display_name": "Python 3"
    },
    "language_info": {
      "name": "python"
    }
  },
  "cells": [
    {
      "cell_type": "markdown",
      "metadata": {
        "id": "view-in-github",
        "colab_type": "text"
      },
      "source": [
        "<a href=\"https://colab.research.google.com/github/SimonT2003/MAT421/blob/main/ModuleD_HW_1_1%2C_1_2%2C_1_3%2C_%26_1_4.ipynb\" target=\"_parent\"><img src=\"https://colab.research.google.com/assets/colab-badge.svg\" alt=\"Open In Colab\"/></a>"
      ]
    },
    {
      "cell_type": "markdown",
      "source": [
        "# Linear Algebra Concepts in Python"
      ],
      "metadata": {
        "id": "8TZIUxNi7PTo"
      }
    },
    {
      "cell_type": "markdown",
      "source": [
        "## Section 1.1 - Introduction"
      ],
      "metadata": {
        "id": "71zyafqa7mwP"
      }
    },
    {
      "cell_type": "markdown",
      "source": [
        "### Basic Terminology"
      ],
      "metadata": {
        "id": "Imtfr60F8_vp"
      }
    },
    {
      "cell_type": "markdown",
      "source": [
        "**Sets** - Collection of objects {}\n",
        "\n",
        "**Union** - $A∪B$: set containing all of the elements that are in at least one of the two sets of $A$ and $B$\n",
        "\n",
        "**Intersection** - $A∩B$: Set Containing all elements thats belong to both $A$ and $B$\n",
        "\n",
        "**Naturals** - $\\mathbb{N} =$ {1, 2, 3, 4, ...}\n",
        "\n",
        "**Wholes** - $\\mathbb{W} = \\mathbb{N} \\space ∪ $ {0}\n",
        "\n",
        "**Integers** - $\\mathbb{Z} = $ {..., -3, -2, -1, 0, 1, 2, 3, ...}\n",
        "\n",
        "**Rationals** - $\\mathbb{Q} = $ { $\\frac{p}{q} : p ∊ \\mathbb{Z} , q ∊ \\mathbb{Z} $ \\ {0}}\n",
        "\n",
        "**Irrationals** - $\\mathbb{I} =$ the set of real numbers not expressible as a fraction of integers\n",
        "\n",
        "**Reals** - $\\mathbb{Q} ∪ \\mathbb{I}$\n",
        "\n",
        "**Complex Numbers** - $\\mathbb{C} = ${$a + bi: a, b ∊ \\mathbb{R}, i = \\sqrt{-1}$ }\n"
      ],
      "metadata": {
        "id": "bW2AodRA9Pr9"
      }
    },
    {
      "cell_type": "markdown",
      "source": [
        "## Section 1.2 - Elements of Linear Algebra"
      ],
      "metadata": {
        "id": "SoYieDvDB9BE"
      }
    },
    {
      "cell_type": "markdown",
      "source": [
        "**Linear Subspace** - (of V) is a subset $U ⊆ V$ that is closed under vector addition and scalar multiplication. That is for all $u_1, u_2 ∊ U$ and $a ∊ \\mathbb{R}$ it holds $u_1 + u_2$ and a $u_1 ∊ u $\n",
        "\n",
        "**Span** - let $w_1,...,w_m ∊ V$. The span is denoted span($w_1,...,w_m$) is the set of all linear combos of the $w$'s\n",
        "\n",
        "Every Span is a Linear Subspace - Let $W =$ span($w_1,...,w_m$). Then $W$ is a linear subspace."
      ],
      "metadata": {
        "id": "xKnlUvYDCEVN"
      }
    },
    {
      "cell_type": "code",
      "execution_count": 1,
      "metadata": {
        "colab": {
          "base_uri": "https://localhost:8080/"
        },
        "id": "qYlRUvXO5yBc",
        "outputId": "1bc8caf1-982e-47f9-a1bc-83326bc383d6"
      },
      "outputs": [
        {
          "output_type": "stream",
          "name": "stdout",
          "text": [
            "[[  4   2 -10]]\n"
          ]
        }
      ],
      "source": [
        "import numpy as np\n",
        "x = np.array([[1, 3, 1]])\n",
        "z = np.array([[4, 2, 2]])\n",
        "print(np.cross(x, z))"
      ]
    },
    {
      "cell_type": "markdown",
      "source": [
        "**Column Space** - Let $A ∊ R^{n*m}$ be an nxm matrix with columns $a_1,...,a_m ∊ R^n$. The column space of A, denoted col(A) is the span of the columns of A.\n",
        "\n",
        "**Linear Independence** - A list of column vectors $u_1,...,u_m$ is linearly independent if none of them can be written as a linear combinations of the others.\n",
        "\n",
        "**Dimension Theorem** - Let $U$ be a linear subspace of $V$. Any basis of $U$ has the same number of elements. All bases of U have the same length and same number of elements is $dim(U)$.\n",
        "\n",
        "A list of vectors {$u_1,...,u_m$} is orthonormal if the u's are pairwise orthogonal and each has a norm 1 .\n",
        "\n",
        "**Orthogonal Projection** - Let $U ⊆ V$ be a linear subspace with orthonormal basis $q_1,...,q_m$. The orthogonal porjection of $v ∊ V$ on U is Pu v = sum(j=1)< v , qj > qj.\n",
        "\n",
        "**Best Approximation Theorem** - Let U ⊆ V be a linear subspace with orthonormal basis q1,...,qm let v ∊ V. For any u ∊ U.   ||v-Pu v|| <= ||v-u||.\n",
        "\n",
        "**Pythagorean Theorem** - Let u1 v ∊ V be orthogonal. Then ||u + v||^2 = ||u||^2 + ||v||^2\n",
        "\n",
        "**Cauchy-Schwarz** - For any u1 v ∊ V , |<u,v>| <= ||u|| ||v||\n",
        "\n",
        "**Gram-Schmidt** - Let a1,...,am in R^n be linearly independent. Then there exists an orthonormal basis, q1,...,qm of span(a1,...,am).\n",
        "\n",
        "**Eigenvalues and Eigenvectors** - Let A ∊ R^(dxd) be a square matrix. Then 𝜆 ∊ R is an eigenvalue of A if there exists a non-zero vector x != 0 such that Ax = 𝜆x. Vector x is an eigenvector.\n"
      ],
      "metadata": {
        "id": "jiv4DjICDJb6"
      }
    },
    {
      "cell_type": "code",
      "source": [
        "import numpy as np\n",
        "from numpy.linalg import eig\n",
        "x = np.array([ [1, 2], [4, 6] ])\n",
        "w,v = eig(x)\n",
        "print('E-value:', w)\n",
        "print('E-vector', v)"
      ],
      "metadata": {
        "colab": {
          "base_uri": "https://localhost:8080/"
        },
        "id": "oqoQosGlEPyI",
        "outputId": "558ee2c5-53d1-4ef3-b08e-1c7a19059365"
      },
      "execution_count": 2,
      "outputs": [
        {
          "output_type": "stream",
          "name": "stdout",
          "text": [
            "E-value: [-0.27491722  7.27491722]\n",
            "E-vector [[-0.84324302 -0.3036773 ]\n",
            " [ 0.53753252 -0.95277495]]\n"
          ]
        }
      ]
    },
    {
      "cell_type": "markdown",
      "source": [
        "Diagonal and Similar Matrices - Let A be similar to a matrix D = diag(𝜆1,...,𝜆d) with distinct diagonal entries, that exists a non-singular matric A such that A = PDP^-1\n",
        "\n",
        "If A is symmetric, then any 2 eigenvectors from different eigenspaces are orthogonal.\n",
        "\n",
        "The Spectral Theorem of Symmetric Matrices - A nxn symmetric matrix A has the following properties:\n",
        "- A has n eigenvalyes, counting multiplicities.\n",
        "- If 𝜆 is an eigenvalues of A with multiplicity k, then the eigenspace for x is k-dimensional.\n",
        "- The eigenspaces are mutually orthogonal, in the sense that eigenvectrs corresponding to different vaues are orthogonal.\n",
        "- A is orthogonally diagonalizable.\n"
      ],
      "metadata": {
        "id": "lSeysoZzErB6"
      }
    },
    {
      "cell_type": "markdown",
      "source": [
        "## Section 1.3 - Linear Regression"
      ],
      "metadata": {
        "id": "G1iu8teXExK4"
      }
    },
    {
      "cell_type": "markdown",
      "source": [
        "**QR Decomposition** - a useful procedure to solve the linear least square problem using Gram-Schmidt.\n"
      ],
      "metadata": {
        "id": "l181ksveFFW5"
      }
    },
    {
      "cell_type": "code",
      "source": [
        "import numpy as np\n",
        "from numpy.linalg import qr\n",
        "x = np.array([[0, 2], [2, 3]])\n",
        "\n",
        "Q,R = qr(x)\n",
        "print('Q:', Q)\n",
        "print('R:', R)\n",
        "\n",
        "z = np.dot(Q, R)\n",
        "print('QR:', z)\n",
        "\n",
        "iterations = [1, 20]\n",
        "for i in range(20):\n",
        "    Q,R = qr(x)\n",
        "    x = np.dot(R, Q)\n",
        "    if i+1 in iterations:\n",
        "        print(f'Iteration {i+1}:')\n",
        "        print(x)"
      ],
      "metadata": {
        "colab": {
          "base_uri": "https://localhost:8080/"
        },
        "id": "HGPZtnA4Erii",
        "outputId": "7f0fc625-b602-4dc1-9e75-4a7956c4b288"
      },
      "execution_count": 3,
      "outputs": [
        {
          "output_type": "stream",
          "name": "stdout",
          "text": [
            "Q: [[ 0. -1.]\n",
            " [-1.  0.]]\n",
            "R: [[-2. -3.]\n",
            " [ 0. -2.]]\n",
            "QR: [[0. 2.]\n",
            " [2. 3.]]\n",
            "Iteration 1:\n",
            "[[3. 2.]\n",
            " [2. 0.]]\n",
            "Iteration 20:\n",
            "[[ 4.00000000e+00  9.09484250e-12]\n",
            " [ 9.09494702e-12 -1.00000000e+00]]\n"
          ]
        }
      ]
    },
    {
      "cell_type": "markdown",
      "source": [
        "\n",
        "Normal Equations - Let A ∊ R^(nxm) be an nxm matrix with linearly independent columns and let b ∊ R^n be a vector. The solution to the least-squares problem min||Ax-b|| satisfies A^T Ax = A^T b which are known as the normal equations.\n",
        "\n",
        "Least Squares via QR - Let A ∊ R^(nxm) be an nxm matrix with linearly independent column, let b ∊ R^n be a vector and let A = QR be a QR decomposition of A where Q is a R^(nxm) matrix with Q^T Q = I(mxm) and T is an upper triangle. \\"
      ],
      "metadata": {
        "id": "E3c3fJqUFit6"
      }
    },
    {
      "cell_type": "markdown",
      "source": [
        "## End of Module D"
      ],
      "metadata": {
        "id": "3p-ehNkxF6ia"
      }
    }
  ]
}